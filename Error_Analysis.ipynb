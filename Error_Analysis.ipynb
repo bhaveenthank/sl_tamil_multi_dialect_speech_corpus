{
  "nbformat": 4,
  "nbformat_minor": 0,
  "metadata": {
    "colab": {
      "provenance": [],
      "gpuType": "T4",
      "authorship_tag": "ABX9TyMeZMPB0GiaPIau1ubGg17c",
      "include_colab_link": true
    },
    "kernelspec": {
      "name": "python3",
      "display_name": "Python 3"
    },
    "language_info": {
      "name": "python"
    },
    "accelerator": "GPU"
  },
  "cells": [
    {
      "cell_type": "markdown",
      "metadata": {
        "id": "view-in-github",
        "colab_type": "text"
      },
      "source": [
        "<a href=\"https://colab.research.google.com/github/bhaveenthank/sl_tamil_multi_dialect_speech_corpus/blob/main/Error_Analysis.ipynb\" target=\"_parent\"><img src=\"https://colab.research.google.com/assets/colab-badge.svg\" alt=\"Open In Colab\"/></a>"
      ]
    },
    {
      "cell_type": "code",
      "execution_count": 1,
      "metadata": {
        "colab": {
          "base_uri": "https://localhost:8080/"
        },
        "id": "fGmqaQqfZ-Ov",
        "outputId": "631f4b9a-53cb-4ef4-a68d-cc4258653534"
      },
      "outputs": [
        {
          "output_type": "stream",
          "name": "stdout",
          "text": [
            "Requirement already satisfied: pandas in /usr/local/lib/python3.11/dist-packages (2.2.2)\n",
            "Collecting jiwer\n",
            "  Downloading jiwer-3.1.0-py3-none-any.whl.metadata (2.6 kB)\n",
            "Requirement already satisfied: numpy>=1.23.2 in /usr/local/lib/python3.11/dist-packages (from pandas) (2.0.2)\n",
            "Requirement already satisfied: python-dateutil>=2.8.2 in /usr/local/lib/python3.11/dist-packages (from pandas) (2.8.2)\n",
            "Requirement already satisfied: pytz>=2020.1 in /usr/local/lib/python3.11/dist-packages (from pandas) (2025.2)\n",
            "Requirement already satisfied: tzdata>=2022.7 in /usr/local/lib/python3.11/dist-packages (from pandas) (2025.2)\n",
            "Requirement already satisfied: click>=8.1.8 in /usr/local/lib/python3.11/dist-packages (from jiwer) (8.1.8)\n",
            "Collecting rapidfuzz>=3.9.7 (from jiwer)\n",
            "  Downloading rapidfuzz-3.13.0-cp311-cp311-manylinux_2_17_x86_64.manylinux2014_x86_64.whl.metadata (12 kB)\n",
            "Requirement already satisfied: six>=1.5 in /usr/local/lib/python3.11/dist-packages (from python-dateutil>=2.8.2->pandas) (1.17.0)\n",
            "Downloading jiwer-3.1.0-py3-none-any.whl (22 kB)\n",
            "Downloading rapidfuzz-3.13.0-cp311-cp311-manylinux_2_17_x86_64.manylinux2014_x86_64.whl (3.1 MB)\n",
            "\u001b[2K   \u001b[90m━━━━━━━━━━━━━━━━━━━━━━━━━━━━━━━━━━━━━━━━\u001b[0m \u001b[32m3.1/3.1 MB\u001b[0m \u001b[31m27.3 MB/s\u001b[0m eta \u001b[36m0:00:00\u001b[0m\n",
            "\u001b[?25hInstalling collected packages: rapidfuzz, jiwer\n",
            "Successfully installed jiwer-3.1.0 rapidfuzz-3.13.0\n"
          ]
        }
      ],
      "source": [
        "!pip install pandas jiwer\n"
      ]
    },
    {
      "cell_type": "code",
      "source": [
        "from google.colab import drive\n",
        "drive.mount('/content/drive')\n"
      ],
      "metadata": {
        "colab": {
          "base_uri": "https://localhost:8080/"
        },
        "id": "CHzMyXftaRU9",
        "outputId": "ebb5c4a9-1e90-416d-ccbf-7eb45e1ee6fe"
      },
      "execution_count": 1,
      "outputs": [
        {
          "output_type": "stream",
          "name": "stdout",
          "text": [
            "Mounted at /content/drive\n"
          ]
        }
      ]
    },
    {
      "cell_type": "code",
      "source": [
        "!pip install jiwer\n",
        "import pandas as pd\n",
        "import re\n",
        "from jiwer import cer\n",
        "\n",
        "# Load CSV\n",
        "file_path = '/content/drive/MyDrive/Arranged Transcriptions.csv'\n",
        "df = pd.read_csv(file_path)\n",
        "\n",
        "# Display first few rows to verify\n",
        "df.head()\n",
        "\n",
        "# Function to extract dialect and gender\n",
        "def extract_info(filename):\n",
        "    parts = filename.split('_')\n",
        "    dialect = parts[1].capitalize()\n",
        "    gender = parts[2].capitalize()\n",
        "    return pd.Series([dialect, gender])\n",
        "\n",
        "# Create new columns, using 'filename' instead of 'Filename'\n",
        "df[['Dialect', 'Gender']] = df['filename'].apply(extract_info)"
      ],
      "metadata": {
        "colab": {
          "base_uri": "https://localhost:8080/"
        },
        "id": "IRqKEaWbaaDQ",
        "outputId": "d5eaf5ec-2156-47d0-95ba-60f4d7fc2d3e"
      },
      "execution_count": 2,
      "outputs": [
        {
          "output_type": "stream",
          "name": "stdout",
          "text": [
            "Collecting jiwer\n",
            "  Downloading jiwer-3.1.0-py3-none-any.whl.metadata (2.6 kB)\n",
            "Requirement already satisfied: click>=8.1.8 in /usr/local/lib/python3.11/dist-packages (from jiwer) (8.1.8)\n",
            "Collecting rapidfuzz>=3.9.7 (from jiwer)\n",
            "  Downloading rapidfuzz-3.13.0-cp311-cp311-manylinux_2_17_x86_64.manylinux2014_x86_64.whl.metadata (12 kB)\n",
            "Downloading jiwer-3.1.0-py3-none-any.whl (22 kB)\n",
            "Downloading rapidfuzz-3.13.0-cp311-cp311-manylinux_2_17_x86_64.manylinux2014_x86_64.whl (3.1 MB)\n",
            "\u001b[2K   \u001b[90m━━━━━━━━━━━━━━━━━━━━━━━━━━━━━━━━━━━━━━━━\u001b[0m \u001b[32m3.1/3.1 MB\u001b[0m \u001b[31m46.1 MB/s\u001b[0m eta \u001b[36m0:00:00\u001b[0m\n",
            "\u001b[?25hInstalling collected packages: rapidfuzz, jiwer\n",
            "Successfully installed jiwer-3.1.0 rapidfuzz-3.13.0\n"
          ]
        }
      ]
    },
    {
      "cell_type": "code",
      "source": [
        "# Compute CER for each model\n",
        "model_cols = ['amrrs_transcription', 'Rajaram1996_transcription', 'Harveenchandha_transcription']\n",
        "for i, model_col in enumerate(model_cols):\n",
        "    cer_col = f'Model{i+1}_CER'\n",
        "    # Calculate CER using ground truth column and model column\n",
        "    df[cer_col] = df.apply(lambda row: cer(row['Ground_truth_transcription'], row[model_col]), axis=1)\n",
        "\n",
        "# Group and calculate mean CER\n",
        "grouped = df.groupby(['Dialect', 'Gender'])[[f'Model{i}_CER' for i in range(1, 4)]].mean().reset_index()\n",
        "\n",
        "# Preview\n",
        "grouped\n",
        "\n",
        "# Save result\n",
        "output_path = '/content/drive/MyDrive/CER_Dialect_Gender_Comparison.csv'\n",
        "grouped.to_csv(output_path, index=False)\n",
        "\n",
        "print(\"CER analysis saved in the path :\", output_path)"
      ],
      "metadata": {
        "colab": {
          "base_uri": "https://localhost:8080/"
        },
        "id": "Tt0yZg_nbCpF",
        "outputId": "aea4e844-d724-4c01-9236-264716924cfd"
      },
      "execution_count": 3,
      "outputs": [
        {
          "output_type": "stream",
          "name": "stdout",
          "text": [
            "CER analysis saved in the path : /content/drive/MyDrive/CER_Dialect_Gender_Comparison.csv\n"
          ]
        }
      ]
    },
    {
      "cell_type": "code",
      "source": [
        "!pip install pandas jiwer seaborn matplotlib\n",
        "from google.colab import drive\n",
        "drive.mount('/content/drive')\n",
        "import pandas as pd\n",
        "import re\n",
        "from jiwer import cer\n",
        "import seaborn as sns\n",
        "import matplotlib.pyplot as plt\n",
        "\n",
        "# Load CSV from Google Drive\n",
        "file_path = '/content/drive/MyDrive/Arranged Transcriptions.csv'\n",
        "df = pd.read_csv(file_path)\n",
        "\n",
        "# Display first few rows for verification\n",
        "df.head()\n",
        "\n",
        "# Function to extract dialect and gender\n",
        "def extract_info(filename):\n",
        "    parts = filename.split('_')\n",
        "    dialect = parts[1].capitalize()\n",
        "    gender = parts[2].capitalize()\n",
        "    return pd.Series([dialect, gender])\n",
        "\n",
        "# Create new columns, using 'filename' instead of 'Filename'\n",
        "df[['Dialect', 'Gender']] = df['filename'].apply(extract_info)\n",
        "\n",
        "# Compute CER for each model\n",
        "model_cols = ['amrrs_transcription', 'Rajaram1996_transcription', 'Harveenchandha_transcription']\n",
        "for i, model_col in enumerate(model_cols):\n",
        "    cer_col = f'Model{i+1}_CER'\n",
        "    # Calculate CER using ground truth column and model column\n",
        "    df[cer_col] = df.apply(lambda row: cer(row['Ground_truth_transcription'], row[model_col]), axis=1)\n",
        "\n",
        "# Group and calculate mean CER\n",
        "grouped = df.groupby(['Dialect', 'Gender'])[[f'Model{i}_CER' for i in range(1, 4)]].mean().reset_index()\n",
        "\n",
        "# Preview\n",
        "grouped\n",
        "\n",
        "# Create bar plot using\n",
        "sns.barplot(data=grouped, x='Dialect', y='Model1_CER', hue='Gender')\n",
        "plt.title(\"Model1 CER by Dialect and Gender\")\n",
        "plt.ylabel(\"CER (Character Error Rate)\")\n",
        "plt.xticks(rotation=45, horizontalalignment='right')\n",
        "plt.tight_layout()\n",
        "plt.show()\n",
        "\n",
        "# Save result\n",
        "output_path = '/content/drive/MyDrive/CER_Dialect_Gender_Comparison_2.csv'\n",
        "grouped.to_csv(output_path, index=False)\n",
        "\n",
        "print(\"CER analysis saved in the path:\", output_path)"
      ],
      "metadata": {
        "colab": {
          "base_uri": "https://localhost:8080/",
          "height": 847
        },
        "id": "dGan0z81cFOx",
        "outputId": "0d86af26-b654-428d-ef2c-584f39d85966"
      },
      "execution_count": 4,
      "outputs": [
        {
          "output_type": "stream",
          "name": "stdout",
          "text": [
            "Requirement already satisfied: pandas in /usr/local/lib/python3.11/dist-packages (2.2.2)\n",
            "Requirement already satisfied: jiwer in /usr/local/lib/python3.11/dist-packages (3.1.0)\n",
            "Requirement already satisfied: seaborn in /usr/local/lib/python3.11/dist-packages (0.13.2)\n",
            "Requirement already satisfied: matplotlib in /usr/local/lib/python3.11/dist-packages (3.10.0)\n",
            "Requirement already satisfied: numpy>=1.23.2 in /usr/local/lib/python3.11/dist-packages (from pandas) (2.0.2)\n",
            "Requirement already satisfied: python-dateutil>=2.8.2 in /usr/local/lib/python3.11/dist-packages (from pandas) (2.8.2)\n",
            "Requirement already satisfied: pytz>=2020.1 in /usr/local/lib/python3.11/dist-packages (from pandas) (2025.2)\n",
            "Requirement already satisfied: tzdata>=2022.7 in /usr/local/lib/python3.11/dist-packages (from pandas) (2025.2)\n",
            "Requirement already satisfied: click>=8.1.8 in /usr/local/lib/python3.11/dist-packages (from jiwer) (8.1.8)\n",
            "Requirement already satisfied: rapidfuzz>=3.9.7 in /usr/local/lib/python3.11/dist-packages (from jiwer) (3.13.0)\n",
            "Requirement already satisfied: contourpy>=1.0.1 in /usr/local/lib/python3.11/dist-packages (from matplotlib) (1.3.1)\n",
            "Requirement already satisfied: cycler>=0.10 in /usr/local/lib/python3.11/dist-packages (from matplotlib) (0.12.1)\n",
            "Requirement already satisfied: fonttools>=4.22.0 in /usr/local/lib/python3.11/dist-packages (from matplotlib) (4.57.0)\n",
            "Requirement already satisfied: kiwisolver>=1.3.1 in /usr/local/lib/python3.11/dist-packages (from matplotlib) (1.4.8)\n",
            "Requirement already satisfied: packaging>=20.0 in /usr/local/lib/python3.11/dist-packages (from matplotlib) (24.2)\n",
            "Requirement already satisfied: pillow>=8 in /usr/local/lib/python3.11/dist-packages (from matplotlib) (11.1.0)\n",
            "Requirement already satisfied: pyparsing>=2.3.1 in /usr/local/lib/python3.11/dist-packages (from matplotlib) (3.2.3)\n",
            "Requirement already satisfied: six>=1.5 in /usr/local/lib/python3.11/dist-packages (from python-dateutil>=2.8.2->pandas) (1.17.0)\n",
            "Drive already mounted at /content/drive; to attempt to forcibly remount, call drive.mount(\"/content/drive\", force_remount=True).\n"
          ]
        },
        {
          "output_type": "display_data",
          "data": {
            "text/plain": [
              "<Figure size 640x480 with 1 Axes>"
            ],
            "image/png": "[encoded data removed]"
          },
          "metadata": {}
        },
        {
          "output_type": "stream",
          "name": "stdout",
          "text": [
            "CER analysis saved in the path: /content/drive/MyDrive/CER_Dialect_Gender_Comparison_2.csv\n"
          ]
        }
      ]
    }
  ]
}